{
 "cells": [
  {
   "cell_type": "code",
   "execution_count": 1,
   "id": "25cc85ca",
   "metadata": {},
   "outputs": [
    {
     "data": {
      "image/png": "[encoded data removed]",
      "text/plain": [
       "<Figure size 640x480 with 1 Axes>"
      ]
     },
     "metadata": {},
     "output_type": "display_data"
    }
   ],
   "source": [
    "import matplotlib.pyplot as plt\n",
    "\n",
    "def intersection(cp1, cp2, s, e):\n",
    "    dc = [cp1[0] - cp2[0], cp1[1] - cp2[1]]\n",
    "    dp = [s[0] - e[0], s[1] - e[1]]\n",
    "    n1 = cp1[0] * cp2[1] - cp1[1] * cp2[0]\n",
    "    n2 = s[0] * e[1] - s[1] * e[0] \n",
    "    n3 = 1.0 / (dc[0] * dp[1] - dc[1] * dp[0])\n",
    "    return [(n1 * dp[0] - n2 * dc[0]) * n3, (n1 * dp[1] - n2 * dc[1]) * n3]\n",
    "\n",
    "def inside(p, cp1, cp2):\n",
    "    return (cp2[0] - cp1[0]) * (p[1] - cp1[1]) > (cp2[1] - cp1[1]) * (p[0] - cp1[0])\n",
    "\n",
    "def sutherland_hodgman_polygon_clipper(subject_polygon, clip_polygon):\n",
    "    output_list = subject_polygon\n",
    "    cp1 = clip_polygon[-1]\n",
    "\n",
    "    for clip_vertex in clip_polygon:\n",
    "        cp2 = clip_vertex\n",
    "        input_list = output_list\n",
    "        output_list = []\n",
    "        s = input_list[-1]\n",
    "\n",
    "        for subject_vertex in input_list:\n",
    "            e = subject_vertex\n",
    "            if inside(e, cp1, cp2):\n",
    "                if not inside(s, cp1, cp2):\n",
    "                    output_list.append(intersection(cp1, cp2, s, e))\n",
    "                output_list.append(e)\n",
    "            elif inside(s, cp1, cp2):\n",
    "                output_list.append(intersection(cp1, cp2, s, e))\n",
    "            s = e\n",
    "        cp1 = cp2\n",
    "    return output_list\n",
    "\n",
    "def plot_polygon(polygon, color='blue'):\n",
    "    x, y = zip(*polygon)\n",
    "    plt.plot(x + x[:1], y + y[:1], color)\n",
    "\n",
    "def main():\n",
    "    subject_polygon = [(1,1), (1,2), (2,2), (2,1)]\n",
    "    clip_polygon = [(0.5,0.5), (1.5,0.5), (1.5,1.5), (0.5,1.5)]\n",
    "    result = sutherland_hodgman_polygon_clipper(subject_polygon, clip_polygon)\n",
    "    plot_polygon(subject_polygon, 'blue')\n",
    "    plot_polygon(clip_polygon, 'red')\n",
    "    plot_polygon(result, 'green')\n",
    "    plt.show()\n",
    "\n",
    "if __name__ == '__main__':\n",
    "    main()"
   ]
  }
 ],
 "metadata": {
  "kernelspec": {
   "display_name": "Python 3 (ipykernel)",
   "language": "python",
   "name": "python3"
  },
  "language_info": {
   "codemirror_mode": {
    "name": "ipython",
    "version": 3
   },
   "file_extension": ".py",
   "mimetype": "text/x-python",
   "name": "python",
   "nbconvert_exporter": "python",
   "pygments_lexer": "ipython3",
   "version": "3.9.13"
  }
 },
 "nbformat": 4,
 "nbformat_minor": 5
}
