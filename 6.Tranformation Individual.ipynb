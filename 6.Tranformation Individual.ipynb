{
 "cells": [
  {
   "cell_type": "code",
   "execution_count": null,
   "id": "b186cce5",
   "metadata": {},
   "outputs": [],
   "source": []
  },
  {
   "cell_type": "code",
   "execution_count": null,
   "id": "c902b02b",
   "metadata": {},
   "outputs": [],
   "source": []
  },
  {
   "cell_type": "markdown",
   "id": "15e60d4f",
   "metadata": {},
   "source": [
    "# Translation"
   ]
  },
  {
   "cell_type": "code",
   "execution_count": 31,
   "id": "ee10201b",
   "metadata": {},
   "outputs": [],
   "source": [
    "import numpy as np\n",
    "import matplotlib.pyplot as plt\n",
    "\n",
    "def translation_translate(polygon, translate_x, translate_y):\n",
    "    homogeneous_polygon = np.column_stack((polygon, np.ones(len(polygon))))\n",
    "    translate_matrix = np.array([\n",
    "            [1, 0, translate_x],\n",
    "            [0, 1, translate_y],\n",
    "            [0, 0, 1]\n",
    "        ])\n",
    "\n",
    "    translated_polygon_homogeneous = np.dot(translate_matrix, homogeneous_polygon.T).T\n",
    "    return translated_polygon_homogeneous[:, :2]"
   ]
  },
  {
   "cell_type": "code",
   "execution_count": 32,
   "id": "81d4748a",
   "metadata": {},
   "outputs": [
    {
     "data": {
      "text/plain": [
       "Text(0.5, 1.0, 'Original')"
      ]
     },
     "execution_count": 32,
     "metadata": {},
     "output_type": "execute_result"
    },
    {
     "data": {
      "image/png": "[encoded data removed]",
      "text/plain": [
       "<Figure size 900x600 with 1 Axes>"
      ]
     },
     "metadata": {},
     "output_type": "display_data"
    }
   ],
   "source": [
    "plt.figure(figsize=(9,6))\n",
    "\n",
    "# Define the polygon (example: square)\n",
    "polygon = np.array([(0, 0), (1, 0), (1, 1), (0, 1)])\n",
    "\n",
    "plt.subplot(2,3,1)\n",
    "plt.plot(polygon[:,0], polygon[:,1], c='black')\n",
    "plt.plot(polygon[[0,-1]][0], polygon[[0,-1]][1], c='black')\n",
    "plt.title('Original')"
   ]
  },
  {
   "cell_type": "code",
   "execution_count": 33,
   "id": "11eab858",
   "metadata": {},
   "outputs": [
    {
     "data": {
      "image/png": "[encoded data removed]",
      "text/plain": [
       "<Figure size 640x480 with 1 Axes>"
      ]
     },
     "metadata": {},
     "output_type": "display_data"
    }
   ],
   "source": [
    "translate_x = 3\n",
    "translate_y = 3\n",
    "translate_polygon = translation_translate(polygon, translate_x, translate_y)\n",
    "\n",
    "plt.subplot(2,3,2)\n",
    "plt.plot(translate_polygon[:,0], translate_polygon[:,1], c='red')\n",
    "plt.plot(translate_polygon[[0,-1],0], translate_polygon[[0,-1],1], c='red')\n",
    "plt.title('translate_polygon')\n",
    "plt.xlim(min(np.min(polygon[:, 0]), np.min(translate_polygon[:, 0])) - 1,\n",
    "         max(np.max(polygon[:, 0]), np.max(translate_polygon[:, 0])) + 1)\n",
    "plt.ylim(min(np.min(polygon[:, 1]), np.min(translate_polygon[:, 1])) - 1,\n",
    "         max(np.max(polygon[:, 1]), np.max(translate_polygon[:, 1])) + 1)\n",
    "\n",
    "plt.show()"
   ]
  },
  {
   "cell_type": "markdown",
   "id": "bcbb4376",
   "metadata": {},
   "source": [
    "# Scaling"
   ]
  },
  {
   "cell_type": "code",
   "execution_count": 45,
   "id": "6eb11355",
   "metadata": {},
   "outputs": [],
   "source": [
    "import numpy as np\n",
    "import matplotlib.pyplot as plt\n",
    "\n",
    "def translation_scaling(polygon, scale_x, scale_y):\n",
    "    # Scaling matrix\n",
    "    scaling_matrix = np.array([\n",
    "        [scale_x, 0],\n",
    "        [0, scale_y]\n",
    "    ])\n",
    "    return np.dot(polygon, scaling_matrix.T)"
   ]
  },
  {
   "cell_type": "code",
   "execution_count": 37,
   "id": "6c39cb69",
   "metadata": {},
   "outputs": [
    {
     "data": {
      "text/plain": [
       "Text(0.5, 1.0, 'Original')"
      ]
     },
     "execution_count": 37,
     "metadata": {},
     "output_type": "execute_result"
    },
    {
     "data": {
      "image/png": "[encoded data removed]",
      "text/plain": [
       "<Figure size 900x600 with 1 Axes>"
      ]
     },
     "metadata": {},
     "output_type": "display_data"
    }
   ],
   "source": [
    "plt.figure(figsize=(9,6))\n",
    "\n",
    "# Define the polygon (example: square)\n",
    "polygon = np.array([(0, 0), (1, 0), (1, 1), (0, 1)])\n",
    "\n",
    "plt.subplot(2,3,1)\n",
    "plt.plot(polygon[:,0], polygon[:,1], c='black')\n",
    "plt.plot(polygon[[0,-1]][0], polygon[[0,-1]][1], c='black')\n",
    "plt.title('Original')"
   ]
  },
  {
   "cell_type": "code",
   "execution_count": 40,
   "id": "cf4fe5ac",
   "metadata": {},
   "outputs": [
    {
     "data": {
      "image/png": "[encoded data removed]",
      "text/plain": [
       "<Figure size 640x480 with 1 Axes>"
      ]
     },
     "metadata": {},
     "output_type": "display_data"
    }
   ],
   "source": [
    "scale_x = 2\n",
    "scale_y = 3\n",
    "scaled_polygon = translation_scaling(polygon, scale_x, scale_y)\n",
    "# Plot the original and scaled polygons\n",
    "plt.subplot(2,3,3)\n",
    "plt.plot(scaled_polygon[:,0], scaled_polygon[:,1], c='red')\n",
    "plt.plot(scaled_polygon[[0,-1],0], scaled_polygon[[0,-1],1], c='red')\n",
    "\n",
    "# Set plot limits\n",
    "plt.xlim(min(np.min(polygon[:, 0]), np.min(scaled_polygon[:, 0])) - 1,\n",
    "         max(np.max(polygon[:, 0]), np.max(scaled_polygon[:, 0])) + 1)\n",
    "plt.ylim(min(np.min(polygon[:, 1]), np.min(scaled_polygon[:, 1])) - 1,\n",
    "         max(np.max(polygon[:, 1]), np.max(scaled_polygon[:, 1])) + 1)\n",
    "\n",
    "# Add labels and legend\n",
    "plt.title('Scaled_polygon')\n",
    "#plt.legend()\n",
    "plt.show()"
   ]
  },
  {
   "cell_type": "markdown",
   "id": "388ae287",
   "metadata": {},
   "source": [
    "# Reflection"
   ]
  },
  {
   "cell_type": "code",
   "execution_count": 46,
   "id": "3b83f3c3",
   "metadata": {},
   "outputs": [],
   "source": [
    "import numpy as np\n",
    "import matplotlib.pyplot as plt\n",
    "\n",
    "def translation_reflection(polygon, x_axis=True, y_axis=True):\n",
    "\tx_axis = -1 if x_axis else 1\n",
    "\ty_axis = -1 if y_axis else 1\n",
    "\t# Scaling matrix\n",
    "\tscaling_matrix = np.array([\n",
    "\t    [x_axis, 0],\n",
    "\t    [0, y_axis]\n",
    "\t])\n",
    "\treturn np.dot(polygon, scaling_matrix.T)"
   ]
  },
  {
   "cell_type": "code",
   "execution_count": 47,
   "id": "a86c0275",
   "metadata": {},
   "outputs": [
    {
     "data": {
      "text/plain": [
       "Text(0.5, 1.0, 'Original')"
      ]
     },
     "execution_count": 47,
     "metadata": {},
     "output_type": "execute_result"
    },
    {
     "data": {
      "image/png": "[encoded data removed]",
      "text/plain": [
       "<Figure size 900x600 with 1 Axes>"
      ]
     },
     "metadata": {},
     "output_type": "display_data"
    }
   ],
   "source": [
    "plt.figure(figsize=(9,6))\n",
    "\n",
    "# Define the polygon (example: square)\n",
    "polygon = np.array([(0, 0), (1, 0), (1, 1), (0, 1)])\n",
    "\n",
    "plt.subplot(2,3,1)\n",
    "plt.plot(polygon[:,0], polygon[:,1], c='black')\n",
    "plt.plot(polygon[[0,-1]][0], polygon[[0,-1]][1], c='black')\n",
    "plt.title('Original')"
   ]
  },
  {
   "cell_type": "code",
   "execution_count": 50,
   "id": "e82d49a5",
   "metadata": {},
   "outputs": [
    {
     "data": {
      "image/png": "[encoded data removed]",
      "text/plain": [
       "<Figure size 640x480 with 1 Axes>"
      ]
     },
     "metadata": {},
     "output_type": "display_data"
    }
   ],
   "source": [
    "x_axis = True\n",
    "y_axis = True\n",
    "reflection_polygon = translation_reflection(polygon, x_axis=True, y_axis=True)\n",
    "# Plot the original and scaled polygons\n",
    "plt.subplot(2,3,4)\n",
    "plt.plot(reflection_polygon[:,0], reflection_polygon[:,1], c='red')\n",
    "plt.plot(reflection_polygon[[0,-1],0], reflection_polygon[[0,-1],1], c='red')\n",
    "\n",
    "# Set plot limits\n",
    "plt.xlim(min(np.min(polygon[:, 0]), np.min(reflection_polygon[:, 0])) - 1,\n",
    "         max(np.max(polygon[:, 0]), np.max(reflection_polygon[:, 0])) + 1)\n",
    "plt.ylim(min(np.min(polygon[:, 1]), np.min(reflection_polygon[:, 1])) - 1,\n",
    "         max(np.max(polygon[:, 1]), np.max(reflection_polygon[:, 1])) + 1)\n",
    "\n",
    "# Add labels and legend\n",
    "plt.title('reflection_polygon_polygon')\n",
    "#plt.legend()\n",
    "plt.show()"
   ]
  },
  {
   "cell_type": "markdown",
   "id": "8236b3f9",
   "metadata": {},
   "source": [
    "# Shearing"
   ]
  },
  {
   "cell_type": "code",
   "execution_count": 51,
   "id": "b7996da8",
   "metadata": {},
   "outputs": [],
   "source": [
    "import numpy as np\n",
    "import matplotlib.pyplot as plt\n",
    "\n",
    "def translation_shearing(polygon, shear_x, shear_y):\n",
    "\tshear_matrix = np.array([\n",
    "\t    [1, shear_x],\n",
    "\t    [shear_y, 1]\n",
    "\t])\n",
    "\n",
    "\treturn np.dot(polygon, shear_matrix.T)"
   ]
  },
  {
   "cell_type": "code",
   "execution_count": 52,
   "id": "b2b37971",
   "metadata": {},
   "outputs": [
    {
     "data": {
      "text/plain": [
       "Text(0.5, 1.0, 'Original')"
      ]
     },
     "execution_count": 52,
     "metadata": {},
     "output_type": "execute_result"
    },
    {
     "data": {
      "image/png": "[encoded data removed]",
      "text/plain": [
       "<Figure size 900x600 with 1 Axes>"
      ]
     },
     "metadata": {},
     "output_type": "display_data"
    }
   ],
   "source": [
    "plt.figure(figsize=(9,6))\n",
    "\n",
    "# Define the polygon (example: square)\n",
    "polygon = np.array([(0, 0), (1, 0), (1, 1), (0, 1)])\n",
    "\n",
    "plt.subplot(2,3,1)\n",
    "plt.plot(polygon[:,0], polygon[:,1], c='black')\n",
    "plt.plot(polygon[[0,-1]][0], polygon[[0,-1]][1], c='black')\n",
    "plt.title('Original')"
   ]
  },
  {
   "cell_type": "code",
   "execution_count": 53,
   "id": "7ca277ef",
   "metadata": {},
   "outputs": [
    {
     "data": {
      "image/png": "[encoded data removed]",
      "text/plain": [
       "<Figure size 640x480 with 1 Axes>"
      ]
     },
     "metadata": {},
     "output_type": "display_data"
    }
   ],
   "source": [
    "shear_x = 0.5  # Horizontal shear\n",
    "shear_y = 0.2  # Vertical shear\n",
    "shearing_polygon = translation_shearing(polygon, shear_x, shear_y)\n",
    "# Plot the original and scaled polygons\n",
    "plt.subplot(2,3,5)\n",
    "plt.plot(shearing_polygon[:,0], shearing_polygon[:,1], c='red')\n",
    "plt.plot(shearing_polygon[[0,-1],0], shearing_polygon[[0,-1],1], c='red')\n",
    "\n",
    "# Set plot limits\n",
    "plt.xlim(min(np.min(polygon[:, 0]), np.min(shearing_polygon[:, 0])) - 1,\n",
    "         max(np.max(polygon[:, 0]), np.max(shearing_polygon[:, 0])) + 1)\n",
    "plt.ylim(min(np.min(polygon[:, 1]), np.min(shearing_polygon[:, 1])) - 1,\n",
    "         max(np.max(polygon[:, 1]), np.max(shearing_polygon[:, 1])) + 1)\n",
    "\n",
    "# Add labels and legend\n",
    "plt.title('shearing_polygon_polygon')\n",
    "#plt.legend()\n",
    "plt.show()"
   ]
  },
  {
   "cell_type": "markdown",
   "id": "6da7254c",
   "metadata": {},
   "source": [
    "# Rotation"
   ]
  },
  {
   "cell_type": "code",
   "execution_count": null,
   "id": "377cb032",
   "metadata": {},
   "outputs": [],
   "source": [
    "def translation_roation(polygon, angle_degrees):\n",
    "\t# Convert angle to radians\n",
    "\tangle_radians = np.radians(angle_degrees)\n",
    "\n",
    "\t# Rotation matrix\n",
    "\trotation_matrix = np.array([\n",
    "\t    [np.cos(angle_radians), -np.sin(angle_radians)],\n",
    "\t    [np.sin(angle_radians), np.cos(angle_radians)]\n",
    "\t])\n",
    "\treturn np.dot(polygon, rotation_matrix.T)"
   ]
  },
  {
   "cell_type": "code",
   "execution_count": 54,
   "id": "113d2f1b",
   "metadata": {},
   "outputs": [
    {
     "data": {
      "text/plain": [
       "Text(0.5, 1.0, 'Original')"
      ]
     },
     "execution_count": 54,
     "metadata": {},
     "output_type": "execute_result"
    },
    {
     "data": {
      "image/png": "[encoded data removed]",
      "text/plain": [
       "<Figure size 900x600 with 1 Axes>"
      ]
     },
     "metadata": {},
     "output_type": "display_data"
    }
   ],
   "source": [
    "plt.figure(figsize=(9,6))\n",
    "\n",
    "# Define the polygon (example: square)\n",
    "polygon = np.array([(0, 0), (1, 0), (1, 1), (0, 1)])\n",
    "\n",
    "plt.subplot(2,3,1)\n",
    "plt.plot(polygon[:,0], polygon[:,1], c='black')\n",
    "plt.plot(polygon[[0,-1]][0], polygon[[0,-1]][1], c='black')\n",
    "plt.title('Original')"
   ]
  },
  {
   "cell_type": "code",
   "execution_count": 58,
   "id": "0df21f8d",
   "metadata": {},
   "outputs": [
    {
     "data": {
      "image/png": "[encoded data removed]",
      "text/plain": [
       "<Figure size 640x480 with 1 Axes>"
      ]
     },
     "metadata": {},
     "output_type": "display_data"
    }
   ],
   "source": [
    "angle_degrees = 45\n",
    "rotation_polygon = translation_roation(polygon, angle_degrees)\n",
    "# Plot the original and scaled polygons\n",
    "plt.subplot(2,3,6)\n",
    "plt.plot(rotation_polygon[:,0], rotation_polygon[:,1], c='red')\n",
    "plt.plot(rotation_polygon[[0,-1],0], rotation_polygon[[0,-1],1], c='red')\n",
    "\n",
    "# Set plot limits\n",
    "plt.xlim(min(np.min(polygon[:, 0]), np.min(rotation_polygon[:, 0])) - 1,\n",
    "         max(np.max(polygon[:, 0]), np.max(rotation_polygon[:, 0])) + 1)\n",
    "plt.ylim(min(np.min(polygon[:, 1]), np.min(rotation_polygon[:, 1])) - 1,\n",
    "         max(np.max(polygon[:, 1]), np.max(rotation_polygon[:, 1])) + 1)\n",
    "\n",
    "# Add labels and legend\n",
    "plt.title('rotation_polygon_polygon')\n",
    "#plt.legend()\n",
    "\n",
    "plt.show()"
   ]
  },
  {
   "cell_type": "code",
   "execution_count": null,
   "id": "961ee90d",
   "metadata": {},
   "outputs": [],
   "source": []
  }
 ],
 "metadata": {
  "kernelspec": {
   "display_name": "Python 3 (ipykernel)",
   "language": "python",
   "name": "python3"
  },
  "language_info": {
   "codemirror_mode": {
    "name": "ipython",
    "version": 3
   },
   "file_extension": ".py",
   "mimetype": "text/x-python",
   "name": "python",
   "nbconvert_exporter": "python",
   "pygments_lexer": "ipython3",
   "version": "3.9.13"
  }
 },
 "nbformat": 4,
 "nbformat_minor": 5
}
