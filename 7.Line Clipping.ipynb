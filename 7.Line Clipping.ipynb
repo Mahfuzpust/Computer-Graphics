{
 "cells": [
  {
   "cell_type": "code",
   "execution_count": 1,
   "id": "6b82d938",
   "metadata": {},
   "outputs": [
    {
     "data": {
      "image/png": "[encoded data removed]",
      "text/plain": [
       "<Figure size 640x480 with 1 Axes>"
      ]
     },
     "metadata": {},
     "output_type": "display_data"
    }
   ],
   "source": [
    "import matplotlib.pyplot as plt\n",
    "\n",
    "\n",
    "def cohen_sutherland_line_clip(xmin, ymin, xmax, ymax, x1, y1, x2, y2):\n",
    "    INSIDE = 0\n",
    "    LEFT = 1\n",
    "    RIGHT = 2\n",
    "    BOTTOM = 4\n",
    "    TOP = 8\n",
    "\n",
    "    def compute_code(x, y):\n",
    "        code = INSIDE\n",
    "        if x < xmin:\n",
    "            code |= LEFT\n",
    "        elif x > xmax:\n",
    "            code |= RIGHT\n",
    "        if y < ymin:\n",
    "            code |= BOTTOM\n",
    "        elif y > ymax:\n",
    "            code |= TOP\n",
    "        return code\n",
    "\n",
    "    code1 = compute_code(x1, y1)\n",
    "    code2 = compute_code(x2, y2)\n",
    "\n",
    "    while (code1 | code2) != 0:\n",
    "        if (code1 & code2) != 0:\n",
    "            return None  # Line completely outside\n",
    "\n",
    "        x, y = 0, 0\n",
    "        code_out = code1 if code1 != 0 else code2\n",
    "\n",
    "        if code_out & TOP:\n",
    "            x = x1 + (x2 - x1) * (ymax - y1) / (y2 - y1)\n",
    "            y = ymax\n",
    "        elif code_out & BOTTOM:\n",
    "            x = x1 + (x2 - x1) * (ymin - y1) / (y2 - y1)\n",
    "            y = ymin\n",
    "        elif code_out & RIGHT:\n",
    "            y = y1 + (y2 - y1) * (xmax - x1) / (x2 - x1)\n",
    "            x = xmax\n",
    "        elif code_out & LEFT:\n",
    "            y = y1 + (y2 - y1) * (xmin - x1) / (x2 - x1)\n",
    "            x = xmin\n",
    "\n",
    "        if code_out == code1:\n",
    "            x1, y1 = x, y\n",
    "            code1 = compute_code(x1, y1)\n",
    "        else:\n",
    "            x2, y2 = x, y\n",
    "            code2 = compute_code(x2, y2)\n",
    "\n",
    "    return x1, y1, x2, y2\n",
    "\n",
    "\n",
    "def plot_line(x1, y1, x2, y2, color='blue'):\n",
    "    plt.plot([x1, x2], [y1, y2], color)\n",
    "\n",
    "def plot_clipped_line(xmin, ymin, xmax, ymax, x1, y1, x2, y2):\n",
    "    # Original line\n",
    "    plot_line(x1, y1, x2, y2, color='blue')\n",
    "\n",
    "    # Clipped line\n",
    "    clipped_result = cohen_sutherland_line_clip(xmin, ymin, xmax, ymax, x1, y1, x2, y2)\n",
    "    if clipped_result:\n",
    "        x1_clipped, y1_clipped, x2_clipped, y2_clipped = clipped_result\n",
    "        plot_line(x1_clipped, y1_clipped, x2_clipped, y2_clipped, color='red')\n",
    "\n",
    "    # Clipping window\n",
    "    plt.plot([xmin, xmax, xmax, xmin, xmin], [ymin, ymin, ymax, ymax, ymin], 'k--')\n",
    "\n",
    "    # Set axis limits and show the plot\n",
    "    plt.xlim(0, 100)\n",
    "    plt.ylim(0, 100)\n",
    "    plt.gca().set_aspect('equal', adjustable='box')\n",
    "    plt.show()\n",
    "\n",
    "# Example usage:\n",
    "xmin, ymin, xmax, ymax = 20, 20, 80, 80\n",
    "x1, y1, x2, y2 = 10, 10, 90, 90\n",
    "\n",
    "plot_clipped_line(xmin, ymin, xmax, ymax, x1, y1, x2, y2)\n"
   ]
  }
 ],
 "metadata": {
  "kernelspec": {
   "display_name": "Python 3 (ipykernel)",
   "language": "python",
   "name": "python3"
  },
  "language_info": {
   "codemirror_mode": {
    "name": "ipython",
    "version": 3
   },
   "file_extension": ".py",
   "mimetype": "text/x-python",
   "name": "python",
   "nbconvert_exporter": "python",
   "pygments_lexer": "ipython3",
   "version": "3.9.13"
  }
 },
 "nbformat": 4,
 "nbformat_minor": 5
}
